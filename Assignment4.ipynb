{
 "metadata": {
  "kernelspec": {
   "display_name": "Python 2",
   "language": "python",
   "name": "python2"
  },
  "language_info": {
   "codemirror_mode": {
    "name": "ipython",
    "version": 2
   },
   "file_extension": ".py",
   "mimetype": "text/x-python",
   "name": "python",
   "nbconvert_exporter": "python",
   "pygments_lexer": "ipython2",
   "version": "2.7.6"
  },
  "name": "",
  "signature": "sha256:84e0d7355b897cd76eb46ae938140c95a79a11c707d72e84cace19f632c95547"
 },
 "nbformat": 3,
 "nbformat_minor": 0,
 "worksheets": [
  {
   "cells": [
    {
     "cell_type": "heading",
     "level": 1,
     "metadata": {},
     "source": [
      "Assignment 4"
     ]
    },
    {
     "cell_type": "markdown",
     "metadata": {},
     "source": [
      "Previously in 2_fullyconnected.ipynb and 3_regularization.ipynb, we trained fully connected networks to classify notMNIST\n",
      "\n",
      "characters.The goal of this assignment is make the neural network convolutional."
     ]
    },
    {
     "cell_type": "heading",
     "level": 1,
     "metadata": {},
     "source": [
      "Problem 1"
     ]
    },
    {
     "cell_type": "markdown",
     "metadata": {},
     "source": [
      "The convolutional model above uses convolutions with stride 2 to reduce the dimensionality. Replace the strides by a max pooling \n",
      "\n",
      "\n",
      "\n",
      "operation (nn.max_pool()) of stride 2 and kernel size 2."
     ]
    },
    {
     "cell_type": "markdown",
     "metadata": {},
     "source": [
      "\u6211\u5982\u679c\u7406\u89e3\u4e0d\u9519\u7684\u8bdd,\u8fd9\u4e2a\u610f\u601d\u662f\u8ba9\u4f60\u5427stride2\u7684convolution\u53d8\u6210\u6b65\u957f\u4e3a1\u7684,\u7136\u540e\u5728\u5176\u540e\u9762\u63a5max pooling\u6765\u8fbe\u5230\u964d\u7ef4\u5ea6.\n",
      "\n",
      "\n",
      "\u60ef\u4f8b,\u6211\u4eec\u5148\u770b\u7ed9\u51fa\u7684\u4ee3\u7801\u7684\u6548\u679c:"
     ]
    },
    {
     "cell_type": "markdown",
     "metadata": {},
     "source": [
      "Minibatch loss at step 1000: 0.600151\n",
      "Minibatch accuracy: 87.5%\n",
      "Validation accuracy: 82.5%\n",
      "Test accuracy: 89.3%"
     ]
    },
    {
     "cell_type": "markdown",
     "metadata": {},
     "source": [
      "CNN\u6548\u679c\u8fd8\u4e0d\u9519,\u6bd4\u6211\u4eec\u4e4b\u524d\u81ea\u5df1\u5728Assignment3\u5199\u7684\u4e0d\u5dee,\u800c\u4e14\u53c2\u6570\u548c\u901f\u5ea6\u90fd\u8981\u4f18\u8d8a\u7684\u591a.\n",
      "\n",
      "\n",
      "\u63a5\u4e0b\u6765\u6211\u4eec\u5206\u6790\u4e00\u4e0b\u4ee3\u7801,\u770b\u770b\u600e\u4e48\u6539."
     ]
    },
    {
     "cell_type": "code",
     "collapsed": false,
     "input": [
      "tf_train_dataset = tf.placeholder(\n",
      "        tf.float32, shape=(batch_size, image_size, image_size, num_channels))\n",
      "layer1_weights = tf.Variable(tf.truncated_normal(\n",
      "        [patch_size, patch_size, num_channels, depth], stddev=0.1))\n",
      "\n",
      "conv = tf.nn.conv2d(data, layer1_weights, [1, 2, 2, 1], padding='SAME')"
     ],
     "language": "python",
     "metadata": {},
     "outputs": [],
     "prompt_number": null
    },
    {
     "cell_type": "markdown",
     "metadata": {},
     "source": [
      "\u6709\u4e24\u70b9\u548c\u4e4b\u524d\u662f\u4e0d\u540c\u7684\n",
      "\n",
      "\n",
      "\u9996\u5148,\u8fd9\u4e2aplaceholder\u7684shape. \u6211\u4e4b\u524d\u4e00\u76f4\u60f3\u628a\u6570\u636e\u7528[None,28,28]\u8f93\u5165\u8fdb\u53bb.\u770b\u6765\u662f\u5c11\u4e86\u6700\u540e\u4e00\u4e2a\u53c2\u6570\n",
      "\n",
      "\n",
      "tensorflow\u4e2d\u8fd9\u4e2ashape\u5e94\u8be5\u4e5f\u4e0d\u662f\u81ea\u5df1\u60f3\u591a\u5c11\u5c31\u591a\u5c11\u7684. \u4f3c\u4e4e\u9700\u8981\u628a\u6570\u636e\u6574\u7406\u6210\u4ed6\u7ed9\u7684\u89c4\u5219\u7684\u5f62\u5f0f\u624d\u884c.\n",
      "\n",
      "\n",
      "tf.nn.conv2d\u64cd\u4f5c:\n",
      "\n",
      "\n",
      "data:\u8f93\u5165\u6570\u636e\n",
      "\n",
      "\n",
      "layer1_weights:\u5377\u79ef\u6838\u53c2\u6570,\u4e5f\u5c31\u662fCNN\u4e2d\u7684w\n",
      "\n",
      "\n",
      "[1,2,2,1] :\u8fd9\u4e2a4\u7ef4\u5ea6\u53c2\u6570\u662fstride,\u5206\u522b\u5bf9\u5e94input\u7684\u56db\u7ef4.\u662f\u5728\u6570\u636e\u96c6\u4e0a\u7684\u6b65\u957f,\u5728image_size\u4e0a\u7684\u6b65\u957f,\u5728image_size\u4e0a\u7684\u6b65\u957f,\u5728num_channels\u7684\u6b65\u957f\n",
      "\u6240\u4ee5,\u4e00\u822c\u7b2c1,3\u4e2a\u53c2\u6570\u90fd\u662f1. \u4e2d\u95f4\u4e24\u4e2a\u4e00\u822c\u90fd\u76f8\u540c\n",
      "\n",
      "\n",
      "padding: padding\u6a21\u5f0f\u6709\u4e24\u79cd,\u4e00\u79cd\u662fSAME,\u5982\u679cstride\u4e3a1,\u8f93\u5165\u8f93\u51fa\u7684\u5377\u79ef\u662f\u4e00\u6837\u5927\u7684,\u5468\u8fb9\u4e00\u5708\u75280\u586b\u6ee1. \u53e6\u4e00\u79cd\u662f'VALID',\n",
      "\u505a\u5b8c\u4ee5\u540e\u8f93\u51fa\u5927\u5c0f\u4f1a\u662f\u56fe\u7247\u5bbd-\u5377\u79ef\u6838\u5bbd+1\n"
     ]
    },
    {
     "cell_type": "markdown",
     "metadata": {},
     "source": [
      "\n",
      "\u6211\u4eec\u518d\u6765\u770b\u4e00\u4e0bmax_pool\u7684\u4f7f\u7528\u624b\u518c \n",
      "\n",
      "\n",
      "\n",
      "tf.nn.max_pool(value, ksize, strides, padding, name=None)\n",
      "\n",
      "\n",
      "\n",
      "Performs the max pooling on the input.\n",
      "\n",
      "\n",
      "Args:\n",
      "\n",
      "\n",
      "\n",
      "    value: A 4-D Tensor with shape [batch, height, width, channels] and type float32, float64, qint8, quint8, qint32.\n",
      "    \n",
      "    \n",
      "    \n",
      "    ksize: A list of ints that has length >= 4. The size of the window for each dimension of the input tensor.\n",
      "    \n",
      "    \n",
      "    \n",
      "    strides: A list of ints that has length >= 4. The stride of the sliding window for each dimension of the input tensor.\n",
      "    \n",
      "    \n",
      "    \n",
      "    padding: A string, either 'VALID' or 'SAME'. The padding algorithm.\n",
      "    \n",
      "    \n",
      "    \n",
      "    name: Optional name for the operation.\n",
      "    \n",
      "    \n",
      "\n",
      "Returns:\n",
      "\n",
      "\n",
      "\n",
      "A Tensor with the same type as value. The max pooled output tensor.\n",
      "\n"
     ]
    },
    {
     "cell_type": "markdown",
     "metadata": {},
     "source": [
      "\n",
      "\u8fd9\u91cc\u6211\u4eec\u786e\u4fe1,\u786e\u5b9etensor shape\u5982\u679c\u60f3\u7528tensorflow\u5199\u597d\u7684\u8fd9\u4e00\u5957\u4e1c\u897f,\u4e0d\u80fd\u81ea\u5df1\u81ea\u7531\u5b9a\u4e49.\u8fd8\u662f\u6309\u5b83\u7684\u89c4\u5219\u6765~\n",
      "\n",
      "\n",
      "\u6211\u4eec\u770b\u7b80\u5355\u5730\u628aconv\u7684stride\u6362\u6210\u4f7f\u7528maxpool\u7684\u964d\u7ef4\u64cd\u4f5c\u540e,\u6548\u679c\u5c31\u5c0f\u6709\u63d0\u5347\n"
     ]
    },
    {
     "cell_type": "markdown",
     "metadata": {},
     "source": [
      "Minibatch loss at step 1000: 0.311003\n",
      "Minibatch accuracy: 93.8%\n",
      "Validation accuracy: 84.4%\n",
      "Test accuracy: 90.9%"
     ]
    },
    {
     "cell_type": "heading",
     "level": 1,
     "metadata": {},
     "source": [
      "Problem 2"
     ]
    },
    {
     "cell_type": "markdown",
     "metadata": {},
     "source": [
      "Try to get the best performance you can using a convolutional net. Look for example at the classic LeNet5 architecture, adding Dropout, and/or adding learning rate decay."
     ]
    },
    {
     "cell_type": "markdown",
     "metadata": {},
     "source": [
      "\u8fd9\u91cc\u6211\u4eec\u6253\u7b97\u5b9e\u73b0\u4e00\u4e0b\u4ed6\u8bb2\u7684Icenption Module\u54c8,\u4e5f\u5c31\u662f2014 image-net\u593a\u51a0\u7684GOOGLENET\u91cc\u9762\u7684\u7ed3\u6784."
     ]
    },
    {
     "cell_type": "markdown",
     "metadata": {},
     "source": [
      "![img](https://raw.githubusercontent.com/KannShi/Udacity_DL/master/img/incpetion.JPG)"
      "![img](https://raw.githubusercontent.com/KannShi/Udacity_DL/master/img/incpetion_run.png)"
     ]
    },
    {
     "cell_type": "markdown",
     "metadata": {},
     "source": [
      "\u8fd9\u91cc\u662f\u6211\u4f7f\u7528tensorboard\u53ef\u89c6\u5316\u81ea\u5df1\u7684\u7f51\u7edc\u7ed3\u6784.\u7f51\u7edc\u8bbe\u8ba1\u6ca1\u6709\u4efb\u4f55\u8bb2\u7a76,\u968f\u610f\u5f04\u7684,\u6240\u4ee5\u6700\u7ec8\u8bad\u7ec3\u65f6\u95f4\u548c\u53c2\u6570\u90fd\u63d0\u5347\u4e86\u65e0\u6570\u500d\u7684\u524d\u63d0\u4e0b,\u6548\u679c\u6bd4\u63d0\u4f9b\u7684CNN\u4ee3\u7801\u4e5f\u5c31\u597d\u4e861\n",
      "\n",
      "\u4e2a\u70b9\u5de6\u53f3\u7684\u6837\u5b50.\u5c31\u662f\u4e3a\u4e86\u611f\u53d7\u4e00\u4e0binception module\u8fd9\u4e2a\u6982\u5ff5.\u5f53\u7136,github\u4e5f\u6709\u5f88\u591a\u4eba\u5b9e\u73b0\u4e86\u633a\u597d\u7684incpetion module.\u5728tensorflow git\u4e3b\u9875\u7684model zoo\u5c31\n",
      "\n",
      "\u6709\u5b9e\u73b0.\u6211\u7684\u7ed3\u679c:\n",
      "\n",
      "Minibatch loss at step 10000: 0.035036\n",
      "\n",
      "\n",
      "Minibatch accuracy: 0.906250\n",
      "\n",
      "\n",
      "test accuracy: 0.922000\n"
     ]
    },
    {
     "cell_type": "code",
     "collapsed": false,
     "input": [],
     "language": "python",
     "metadata": {},
     "outputs": []
    }
   ],
   "metadata": {}
  }
 ]
}
